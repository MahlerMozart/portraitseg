{
 "cells": [
  {
   "cell_type": "markdown",
   "metadata": {},
   "source": [
    "Downloading Flickr images used in this paper:\n",
    "\n",
    "__[Automatic Portrait Segmentation for Image Stylization](http://xiaoyongshen.me/webpage_portrait/index.html)__\n",
    "\n",
    "I obtained the URLs and masks for the images from a private source."
   ]
  },
  {
   "cell_type": "code",
   "execution_count": null,
   "metadata": {},
   "outputs": [],
   "source": [
    "import pathlib\n",
    "import urllib.request\n",
    "\n",
    "def mkdir(d): pathlib.Path(d).mkdir(parents=True, exist_ok=True)"
   ]
  },
  {
   "cell_type": "code",
   "execution_count": null,
   "metadata": {},
   "outputs": [],
   "source": [
    "data_dir = '../data/celeba/'\n",
    "urls_fname = data_dir + 'alldata_urls.txt'\n",
    "img_dir = data_dir + 'images/'\n",
    "crop_dir = data_dir + 'crops/'\n",
    "mkdir(img_dir)\n",
    "mkdir(crop_dir)"
   ]
  },
  {
   "cell_type": "code",
   "execution_count": null,
   "metadata": {},
   "outputs": [],
   "source": [
    "with open(urls_fname) as f:\n",
    "    img_name_url = f.readlines()\n",
    "img_name_url = [x.strip().split() for x in img_name_url]"
   ]
  },
  {
   "cell_type": "code",
   "execution_count": null,
   "metadata": {},
   "outputs": [],
   "source": [
    "missing_images = [name for name, url in img_name_url if url == 'None']\n",
    "print(len(missing_images))"
   ]
  },
  {
   "cell_type": "code",
   "execution_count": null,
   "metadata": {},
   "outputs": [],
   "source": [
    "for name, url in img_name_url:\n",
    "    if url != 'None':\n",
    "        print(\"Downloading %s\" % name, end='\\r')\n",
    "        urllib.request.urlretrieve(url, img_dir + name)"
   ]
  }
 ],
 "metadata": {
  "language_info": {
   "name": "python",
   "pygments_lexer": "ipython3"
  }
 },
 "nbformat": 4,
 "nbformat_minor": 2
}
