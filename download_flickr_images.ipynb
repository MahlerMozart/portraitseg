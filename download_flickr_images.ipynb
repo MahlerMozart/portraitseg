{
 "cells": [
  {
   "cell_type": "markdown",
   "metadata": {},
   "source": [
    "__Purpose__: To download the Flickr images used in [Automatic Portrait Segmentation for Image Stylization](http://xiaoyongshen.me/webpage_portrait/index.html).\n",
    "\n",
    "[Mirror for the image URLs and masks](https://www.dropbox.com/s/7vl1sprdln8dg9k/EG_code_data_release.zip?dl=0) (provided by [timbe16](https://github.com/PetroWu/AutoPortraitMatting/issues/22))\n",
    "\n"
   ]
  },
  {
   "cell_type": "code",
   "execution_count": null,
   "metadata": {},
   "outputs": [],
   "source": [
    "import pathlib\n",
    "import urllib.request\n",
    "\n",
    "from utils import get_lines\n",
    "\n",
    "def mkdir(d): pathlib.Path(d).mkdir(parents=True, exist_ok=True)"
   ]
  },
  {
   "cell_type": "code",
   "execution_count": null,
   "metadata": {},
   "outputs": [],
   "source": [
    "data_dir = '../data/portraits/'\n",
    "urls_fname = data_dir + 'alldata_urls.txt'\n",
    "img_dir = data_dir + 'flickr_raw/'\n",
    "crop_dir = data_dir + 'flickr_crop/'\n",
    "mkdir(img_dir)\n",
    "mkdir(crop_dir)"
   ]
  },
  {
   "cell_type": "code",
   "execution_count": null,
   "metadata": {},
   "outputs": [],
   "source": [
    "img_names_urls = get_lines(urls_fname)"
   ]
  },
  {
   "cell_type": "code",
   "execution_count": null,
   "metadata": {},
   "outputs": [],
   "source": [
    "missing_images = [name for name, url in img_names_urls if url == 'None']\n",
    "print(len(missing_images))"
   ]
  },
  {
   "cell_type": "code",
   "execution_count": null,
   "metadata": {},
   "outputs": [],
   "source": [
    "for name, url in img_names_urls:\n",
    "    if url != 'None':\n",
    "        print(\"Downloading %s\" % name, end='\\r')\n",
    "        urllib.request.urlretrieve(url, img_dir + name)"
   ]
  }
 ],
 "metadata": {
  "language_info": {
   "name": "python",
   "pygments_lexer": "ipython3"
  }
 },
 "nbformat": 4,
 "nbformat_minor": 2
}
