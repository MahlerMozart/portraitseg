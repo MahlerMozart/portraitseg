{
 "cells": [
  {
   "cell_type": "code",
   "execution_count": null,
   "metadata": {},
   "outputs": [],
   "source": [
    "from PIL import Image\n",
    "import matplotlib.pyplot as plt\n",
    "from scipy.io import loadmat\n",
    "\n",
    "from utils import get_fnames, get_lines\n",
    "from im_utils import plot, plots, gray_to_rgb\n",
    "\n",
    "%matplotlib inline"
   ]
  },
  {
   "cell_type": "code",
   "execution_count": null,
   "metadata": {},
   "outputs": [],
   "source": [
    "DATA_DIR = '../data/portraits/'\n",
    "IMG_DIR = DATA_DIR + 'flickr_raw/'\n",
    "MASK_DIR = DATA_DIR + 'flickr_crop_masks/'\n",
    "\n",
    "N = 5\n",
    "MASK_SUFFIX = '_mask.mat'\n",
    "CROP_PARAMS = get_lines(DATA_DIR + 'crop.txt')\n",
    "DIMS = (600, 800)"
   ]
  },
  {
   "cell_type": "code",
   "execution_count": null,
   "metadata": {},
   "outputs": [],
   "source": [
    "for params in CROP_PARAMS[:N]:\n",
    "    name = params[0]\n",
    "    crds = [int(c) for c in params[1:]]\n",
    "    try:\n",
    "        im = Image.open(IMG_DIR + name)\n",
    "        crop = im.crop((crds[2], crds[0], crds[3], crds[1]))\n",
    "        scaled = crop.resize(DIMS, resample=Image.BICUBIC)\n",
    "        mask = loadmat(MASK_DIR + name.split('.')[0] + MASK_SUFFIX)['mask']\n",
    "        mask = Image.fromarray(255 * gray_to_rgb(mask))\n",
    "        blend = Image.blend(scaled, mask, 0.50)\n",
    "        imgs = [im, crop, scaled, mask, blend]\n",
    "        titles = [i.size for i in imgs]\n",
    "        plots(imgs, cols=len(imgs), titles=titles, figsize=(16,16))\n",
    "    except FileNotFoundError:\n",
    "        raise"
   ]
  }
 ],
 "metadata": {
  "language_info": {
   "name": "python",
   "pygments_lexer": "ipython3"
  }
 },
 "nbformat": 4,
 "nbformat_minor": 2
}
