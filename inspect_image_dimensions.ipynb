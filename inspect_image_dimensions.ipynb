{
 "cells": [
  {
   "cell_type": "markdown",
   "metadata": {},
   "source": [
    "**Purpose**: To compare image dimensions from various portrait datasets."
   ]
  },
  {
   "cell_type": "code",
   "execution_count": null,
   "metadata": {},
   "outputs": [],
   "source": [
    "import matplotlib.pyplot as plt\n",
    "%matplotlib inline\n",
    "\n",
    "from utils import get_fnames\n",
    "from im_utils import loadim"
   ]
  },
  {
   "cell_type": "code",
   "execution_count": null,
   "metadata": {},
   "outputs": [],
   "source": [
    "def hist_img_dims_fnames(fnames):\n",
    "    heights = []\n",
    "    widths = []\n",
    "    for fname in fnames:\n",
    "        im = loadim(fname)\n",
    "        height = im.shape[0]\n",
    "        width = im.shape[1]\n",
    "        widths.append(width)\n",
    "        heights.append(height) \n",
    "    fig = plt.figure(figsize=(6, 6))\n",
    "    ax1 = fig.add_subplot(211)\n",
    "    ax1.hist(heights)\n",
    "    ax1.set_ylabel('Heights')\n",
    "    ax2 = fig.add_subplot(212)\n",
    "    ax2.hist(widths)\n",
    "    ax2.set_ylabel('Widths')\n",
    "    plt.show()\n",
    "    \n",
    "def hist_img_dims(directory):\n",
    "    fnames = get_fnames(directory, random=True)[:N]\n",
    "    hist_img_dims_fnames(fnames)"
   ]
  },
  {
   "cell_type": "code",
   "execution_count": null,
   "metadata": {},
   "outputs": [],
   "source": [
    "data_dir = '../data/portraits/'\n",
    "!ls $data_dir"
   ]
  },
  {
   "cell_type": "markdown",
   "metadata": {},
   "source": [
    "# Globals"
   ]
  },
  {
   "cell_type": "code",
   "execution_count": null,
   "metadata": {},
   "outputs": [],
   "source": [
    "N = 1000"
   ]
  },
  {
   "cell_type": "markdown",
   "metadata": {},
   "source": [
    "# CelebA dataset - cropped"
   ]
  },
  {
   "cell_type": "markdown",
   "metadata": {},
   "source": [
    "178x218 (i.e. Smaller than Flickr-cropped)"
   ]
  },
  {
   "cell_type": "code",
   "execution_count": null,
   "metadata": {},
   "outputs": [],
   "source": [
    "hist_img_dims(data_dir + 'celeba_crop/')"
   ]
  },
  {
   "cell_type": "markdown",
   "metadata": {},
   "source": [
    "# CelebA dataset - raw"
   ]
  },
  {
   "cell_type": "code",
   "execution_count": null,
   "metadata": {},
   "outputs": [],
   "source": [
    "hist_img_dims(data_dir + 'celeba_raw/')"
   ]
  },
  {
   "cell_type": "markdown",
   "metadata": {},
   "source": [
    "# Flickr dataset - cropped"
   ]
  },
  {
   "cell_type": "markdown",
   "metadata": {},
   "source": [
    "600x800 (i.e. bigger than CelebA-cropped)"
   ]
  },
  {
   "cell_type": "markdown",
   "metadata": {},
   "source": [
    "# Flickr dataset - raw"
   ]
  },
  {
   "cell_type": "markdown",
   "metadata": {},
   "source": [
    "Paper: Automatic Portrait Segmentation for Image Stylization\n",
    "\n",
    "We have masks for these images. We don't have masks for the CelebA images."
   ]
  },
  {
   "cell_type": "code",
   "execution_count": null,
   "metadata": {},
   "outputs": [],
   "source": [
    "hist_img_dims(data_dir + 'flickr_raw/')"
   ]
  }
 ],
 "metadata": {
  "language_info": {
   "name": "python",
   "pygments_lexer": "ipython3"
  }
 },
 "nbformat": 4,
 "nbformat_minor": 2
}
