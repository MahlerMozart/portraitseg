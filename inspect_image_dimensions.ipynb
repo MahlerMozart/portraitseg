{
 "cells": [
  {
   "cell_type": "markdown",
   "metadata": {},
   "source": [
    "**Purpose**: To compare image dimensions from various portrait datasets."
   ]
  },
  {
   "cell_type": "code",
   "execution_count": null,
   "metadata": {},
   "outputs": [],
   "source": [
    "from os import listdir\n",
    "from os.path import isfile, join\n",
    "from PIL import Image\n",
    "\n",
    "import matplotlib.pyplot as plt\n",
    "import numpy as np\n",
    "from random import shuffle\n",
    "\n",
    "%matplotlib inline"
   ]
  },
  {
   "cell_type": "code",
   "execution_count": null,
   "metadata": {},
   "outputs": [],
   "source": [
    "def get_fnames(d, random=False):\n",
    "    fnames = [d + f for f in listdir(d) if isfile(join(d, f))]\n",
    "    print(\"Number of files found in %s: %s\" % (d, len(fnames)))\n",
    "    if random: shuffle(fnames)\n",
    "    return fnames\n",
    "\n",
    "def plots(imgs, figsize=(12, 12), rows=1, cols=1,\n",
    "          interp=None, titles=None, cmap='gray'):\n",
    "    if not isinstance(imgs, list):\n",
    "        imgs = [imgs]\n",
    "    if not isinstance(cmap, list):\n",
    "        if imgs[0].ndim == 2:\n",
    "            cmap = 'gray'\n",
    "        cmap = [cmap] * len(imgs)\n",
    "    if not isinstance(interp, list):\n",
    "        interp = [interp] * len(imgs)\n",
    "    fig = plt.figure(figsize=figsize)\n",
    "    for i in range(len(imgs)):\n",
    "        sp = fig.add_subplot(rows, cols, i+1)\n",
    "        if titles:\n",
    "            sp.set_title(titles[i], fontsize=18)\n",
    "        plt.imshow(imgs[i], interpolation=interp[i], cmap=cmap[i])\n",
    "        plt.axis('off')\n",
    "\n",
    "\n",
    "def plot(im, f=6, r=1, c=1, t=None):\n",
    "    fs = f if isinstance(f, tuple) else (f, f)\n",
    "    plots(im, figsize=fs, rows=r, cols=c, titles=t)\n",
    "    \n",
    "    \n",
    "def loadim(path):\n",
    "    '''Returns np.array. Loaded with PIL.'''\n",
    "    return np.array(Image.open(path))\n",
    "\n",
    "def hist_img_dims(fnames):\n",
    "    heights = []\n",
    "    widths = []\n",
    "    for fname in fnames:\n",
    "        im = loadim(fname)\n",
    "        height = im.shape[0]\n",
    "        width = im.shape[1]\n",
    "        widths.append(width)\n",
    "        heights.append(height) \n",
    "    fig = plt.figure(figsize=(6, 6))\n",
    "    ax1 = fig.add_subplot(211)\n",
    "    ax1.hist(heights)\n",
    "    ax1.set_ylabel('Heights')\n",
    "    ax2 = fig.add_subplot(212)\n",
    "    ax2.hist(widths)\n",
    "    ax2.set_ylabel('Widths')\n",
    "    plt.show()"
   ]
  },
  {
   "cell_type": "code",
   "execution_count": null,
   "metadata": {},
   "outputs": [],
   "source": [
    "data_dir = '../data/portraits/'\n",
    "!ls $data_dir"
   ]
  },
  {
   "cell_type": "markdown",
   "metadata": {},
   "source": [
    "# Globals"
   ]
  },
  {
   "cell_type": "code",
   "execution_count": null,
   "metadata": {},
   "outputs": [],
   "source": [
    "N = 1000"
   ]
  },
  {
   "cell_type": "markdown",
   "metadata": {},
   "source": [
    "# CelebA dataset - cropped"
   ]
  },
  {
   "cell_type": "markdown",
   "metadata": {},
   "source": [
    "178x218 (i.e. Smaller than Flickr-cropped)"
   ]
  },
  {
   "cell_type": "code",
   "execution_count": null,
   "metadata": {},
   "outputs": [],
   "source": [
    "aligned_dir = data_dir + 'celeba_crop/'\n",
    "fnames = get_fnames(aligned_dir, random=True)[:N]\n",
    "hist_img_dims(fnames)"
   ]
  },
  {
   "cell_type": "markdown",
   "metadata": {},
   "source": [
    "# CelebA dataset - raw"
   ]
  },
  {
   "cell_type": "code",
   "execution_count": null,
   "metadata": {},
   "outputs": [],
   "source": [
    "wild_dir = data_dir + 'celeba_raw/'\n",
    "fnames = get_fnames(wild_dir, random=True)[:N]\n",
    "hist_img_dims(fnames)"
   ]
  },
  {
   "cell_type": "markdown",
   "metadata": {},
   "source": [
    "# Flickr dataset - cropped"
   ]
  },
  {
   "cell_type": "markdown",
   "metadata": {},
   "source": [
    "600x800 (i.e. bigger than CelebA-cropped)"
   ]
  },
  {
   "cell_type": "markdown",
   "metadata": {},
   "source": [
    "# Flickr dataset - raw"
   ]
  },
  {
   "cell_type": "markdown",
   "metadata": {},
   "source": [
    "Paper: Automatic Portrait Segmentation for Image Stylization\n",
    "\n",
    "We have masks for these images. We don't have masks for the CelebA images."
   ]
  },
  {
   "cell_type": "code",
   "execution_count": null,
   "metadata": {},
   "outputs": [],
   "source": [
    "flickr_dir = data_dir + 'flickr_raw/'\n",
    "fnames = get_fnames(flickr_dir, random=True)[:N]\n",
    "hist_img_dims(fnames)"
   ]
  }
 ],
 "metadata": {
  "language_info": {
   "name": "python",
   "pygments_lexer": "ipython3"
  }
 },
 "nbformat": 4,
 "nbformat_minor": 2
}
